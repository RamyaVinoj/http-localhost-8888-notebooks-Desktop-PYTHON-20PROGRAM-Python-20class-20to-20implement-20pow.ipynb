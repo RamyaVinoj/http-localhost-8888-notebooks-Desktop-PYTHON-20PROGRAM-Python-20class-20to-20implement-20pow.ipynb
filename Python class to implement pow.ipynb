{
 "cells": [
  {
   "cell_type": "markdown",
   "id": "8316ad60",
   "metadata": {},
   "source": [
    "# Python class to implement pow(x, n)"
   ]
  },
  {
   "cell_type": "code",
   "execution_count": null,
   "id": "9a3fa58b",
   "metadata": {},
   "outputs": [],
   "source": []
  },
  {
   "cell_type": "code",
   "execution_count": 33,
   "id": "3f6e0a55",
   "metadata": {},
   "outputs": [],
   "source": [
    "class Power:\n",
    "    def __init__(self, x, n):\n",
    "        self.number = x\n",
    "        self.times = n\n",
    "    def calculate(self):\n",
    "        p = math.pow(self.number,self.times)\n",
    "        print(\"The result is:\",int(p))"
   ]
  },
  {
   "cell_type": "code",
   "execution_count": 34,
   "id": "871f2fe1",
   "metadata": {},
   "outputs": [],
   "source": [
    "p1 = Power(10,2)\n",
    "p2 = Power(5,3)"
   ]
  },
  {
   "cell_type": "code",
   "execution_count": 35,
   "id": "58c8b96e",
   "metadata": {},
   "outputs": [
    {
     "name": "stdout",
     "output_type": "stream",
     "text": [
      "The result is: 100\n",
      "The result is: 125\n"
     ]
    }
   ],
   "source": [
    "p1.calculate()\n",
    "p2.calculate()"
   ]
  },
  {
   "cell_type": "code",
   "execution_count": null,
   "id": "191505c1",
   "metadata": {},
   "outputs": [],
   "source": []
  },
  {
   "cell_type": "code",
   "execution_count": null,
   "id": "9c063709",
   "metadata": {},
   "outputs": [],
   "source": []
  },
  {
   "cell_type": "code",
   "execution_count": null,
   "id": "86403b21",
   "metadata": {},
   "outputs": [],
   "source": []
  }
 ],
 "metadata": {
  "kernelspec": {
   "display_name": "Python 3 (ipykernel)",
   "language": "python",
   "name": "python3"
  },
  "language_info": {
   "codemirror_mode": {
    "name": "ipython",
    "version": 3
   },
   "file_extension": ".py",
   "mimetype": "text/x-python",
   "name": "python",
   "nbconvert_exporter": "python",
   "pygments_lexer": "ipython3",
   "version": "3.10.0"
  }
 },
 "nbformat": 4,
 "nbformat_minor": 5
}
